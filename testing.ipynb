{
 "cells": [
  {
   "cell_type": "code",
   "execution_count": 78,
   "metadata": {},
   "outputs": [],
   "source": [
    "# Import required packages\n",
    "import pandas as pd\n",
    "import yfinance as yf\n",
    "import requests\n",
    "import json\n",
    "from bs4 import BeautifulSoup\n",
    "from datetime import date\n",
    "from datetime import timedelta"
   ]
  },
  {
   "cell_type": "code",
   "execution_count": 79,
   "metadata": {},
   "outputs": [],
   "source": [
    "def scrape(url, headers, span, class_):\n",
    "    # Send an HTTP GET request to the provided URL with custom headers\n",
    "    response = requests.get(url, headers=headers)\n",
    "\n",
    "    # Parse the HTML content of the response using BeautifulSoup\n",
    "    soup = BeautifulSoup(response.text, 'html.parser')\n",
    "\n",
    "    # Find the HTML element with the specified tag and class name\n",
    "    element = soup.find(span, class_=class_)\n",
    "\n",
    "    # Extract the text content of the HTML element and remove leading/trailing spaces\n",
    "    value = element.get_text(strip=True)\n",
    "\n",
    "    return value"
   ]
  },
  {
   "cell_type": "code",
   "execution_count": 80,
   "metadata": {},
   "outputs": [],
   "source": [
    "# Function to scrape data from Investing.com for oil prices\n",
    "def scrape_oil_futures(url, headers):\n",
    "    # Send an HTTP GET request to the provided URL with custom headers\n",
    "    response = requests.get(url, headers=headers)\n",
    "    \n",
    "    # Parse the HTML content of the response using BeautifulSoup\n",
    "    soup = BeautifulSoup(response.text, \"html.parser\")\n",
    "    \n",
    "    # Find HTML table\n",
    "    element = soup.find_all('table')[1]\n",
    "    \n",
    "    # Read the table data into a DataFrame\n",
    "    df = pd.read_html(str(element), flavor='bs4')[0].reset_index(drop=True)\n",
    "    \n",
    "    # Get the price from the second record (previous day)\n",
    "    crude_oil_futures = df.iloc[1][1]\n",
    "    \n",
    "    # Return the scraped data (Oil price)\n",
    "    return crude_oil_futures"
   ]
  },
  {
   "cell_type": "code",
   "execution_count": 81,
   "metadata": {},
   "outputs": [],
   "source": [
    "# Function to scrape data from WSJ (Wall Street Journal)\n",
    "def scrape_nyse_adv_dec(url, headers):\n",
    "    # Send an HTTP GET request to the provided URL with custom headers\n",
    "    response = requests.get(url, headers=headers)\n",
    "    \n",
    "    # Convert the response text to a JSON string and parse\n",
    "    element = json.loads(str(response.text))\n",
    "    \n",
    "    # Extract relevant data from the JSON structure\n",
    "    adv = element[\"data\"][\"instrumentSets\"][0][\"instruments\"][1][\"latestClose\"]\n",
    "    dec = element[\"data\"][\"instrumentSets\"][0][\"instruments\"][2][\"latestClose\"]\n",
    "    \n",
    "    # Return the scraped data (Advances and Declines)\n",
    "    return adv, dec"
   ]
  },
  {
   "cell_type": "code",
   "execution_count": 89,
   "metadata": {},
   "outputs": [],
   "source": [
    "# Function to scrape data from NASDAQ using yfinance\n",
    "def scrape_nasdaq_composite():\n",
    "    # Get date of previous day\n",
    "    yesterday = (date.today() - timedelta(days = 1)).strftime('%m/%d/%Y')\n",
    "\n",
    "    # Create a Ticker object for NASDAQ index\n",
    "    nasdaq_ticker = yf.Ticker('^IXIC')\n",
    "    \n",
    "    # Retrieve historical data and reset the index\n",
    "    df = nasdaq_ticker.history().reset_index()\n",
    "    \n",
    "    # Filter the DataFrame for the specified previous weekday's date\n",
    "    filtered_df = df[df['Date'] == yesterday].reset_index()\n",
    "    \n",
    "    # Extract the 'Close' value for the specified date\n",
    "    nasdaq_composite = filtered_df.loc[0, 'Close']\n",
    "    \n",
    "    # Return the scraped data (NASDAQ closing value)\n",
    "    return nasdaq_composite"
   ]
  },
  {
   "cell_type": "code",
   "execution_count": 90,
   "metadata": {},
   "outputs": [],
   "source": [
    "# Inputs\n",
    "headers = {'User-Agent': 'Mozilla/5.0 (Windows NT 10.0; Win64; x64) AppleWebKit/537.36 (KHTML, like Gecko) Chrome/58.0.3029.110 Safari/537.3'}\n",
    "\n",
    "bofa_hy_total_inputs = ['https://fred.stlouisfed.org/series/BAMLHYH0A0HYM2TRIV', headers, 'span', 'series-meta-observation-value']\n",
    "value_line_geo_inputs = ['https://www.google.com/finance/quote/VALUG:INDEXNYSEGIS?sa=X&ved=2ahUKEwjbzZC47-P_AhXpJEQIHZLDDZ8Q3ecFegQIExAX&window=1M', headers, 'div', 'P6K39c']\n",
    "crude_oil_futures_inputs = ['https://www.investing.com/commodities/crude-oil-historical-data', headers]\n",
    "nyse_adv_dec_inputs = ['https://www.wsj.com/market-data/stocks/marketsdiary?id=%7B%22application%22%3A%22WSJ%22%2C%22marketsDiaryType%22%3A%22diaries%22%7D&type=mdc_marketsdiary', headers]\n",
    "\n",
    "# Running the scrape function\n",
    "bofa_hy_total = scrape(*bofa_hy_total_inputs)\n",
    "value_line_geo = scrape(*value_line_geo_inputs)\n",
    "crude_oil_futures = scrape_oil_futures(*crude_oil_futures_inputs)\n",
    "nyse_adv_dec = scrape_nyse_adv_dec(*nyse_adv_dec_inputs)\n",
    "nasdaq_composite = scrape_nasdaq_composite()"
   ]
  }
 ],
 "metadata": {
  "kernelspec": {
   "display_name": "Python 3",
   "language": "python",
   "name": "python3"
  },
  "language_info": {
   "codemirror_mode": {
    "name": "ipython",
    "version": 3
   },
   "file_extension": ".py",
   "mimetype": "text/x-python",
   "name": "python",
   "nbconvert_exporter": "python",
   "pygments_lexer": "ipython3",
   "version": "3.11.4"
  }
 },
 "nbformat": 4,
 "nbformat_minor": 2
}
